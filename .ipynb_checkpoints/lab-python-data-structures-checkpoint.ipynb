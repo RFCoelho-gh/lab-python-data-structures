{
 "cells": [
  {
   "cell_type": "markdown",
   "metadata": {
    "tags": []
   },
   "source": [
    "# Lab | Data Structures "
   ]
  },
  {
   "cell_type": "markdown",
   "metadata": {},
   "source": [
    "## Exercise: Managing Customer Orders\n",
    "\n",
    "As part of a business venture, you are starting an online store that sells various products. To ensure smooth operations, you need to develop a program that manages customer orders and inventory.\n",
    "\n",
    "Follow the steps below to complete the exercise:\n",
    "\n",
    "1. Define a list called `products` that contains the following items: \"t-shirt\", \"mug\", \"hat\", \"book\", \"keychain\".\n",
    "\n",
    "2. Create an empty dictionary called `inventory`.\n",
    "\n",
    "3. Ask the user to input the quantity of each product available in the inventory. Use the product names from the `products` list as keys in the `inventory` dictionary and assign the respective quantities as values.\n",
    "\n",
    "4. Create an empty set called `customer_orders`.\n",
    "\n",
    "5. Ask the user to input the name of three products that a customer wants to order (from those in the products list, meaning three products out of \"t-shirt\", \"mug\", \"hat\", \"book\" or \"keychain\". Add each product name to the `customer_orders` set.\n",
    "\n",
    "6. Print the products in the `customer_orders` set.\n",
    "\n",
    "7. Calculate the following order statistics:\n",
    "   - Total Products Ordered: The total number of products in the `customer_orders` set.\n",
    "   - Percentage of Products Ordered: The percentage of products ordered compared to the total available products.\n",
    "   \n",
    "   Store these statistics in a tuple called `order_status`.\n",
    "\n",
    "8. Print the order statistics using the following format:\n",
    "   ```\n",
    "   Order Statistics:\n",
    "   Total Products Ordered: <total_products_ordered>\n",
    "   Percentage of Products Ordered: <percentage_ordered>% \n",
    "   ```\n",
    "\n",
    "9. Update the inventory by subtracting 1 from the quantity of each product. Modify the `inventory` dictionary accordingly.\n",
    "\n",
    "10. Print the updated inventory, displaying the quantity of each product on separate lines.\n",
    "\n",
    "Solve the exercise by implementing the steps using the Python concepts of lists, dictionaries, sets, and basic input/output operations. "
   ]
  },
  {
   "cell_type": "code",
   "execution_count": 2,
   "metadata": {},
   "outputs": [
    {
     "name": "stdout",
     "output_type": "stream",
     "text": [
      "Please enter the quantity of each product available in the inventory: t-shirt\n"
     ]
    },
    {
     "name": "stdin",
     "output_type": "stream",
     "text": [
      "Quantity of item of name: t-shirt 1\n"
     ]
    },
    {
     "name": "stdout",
     "output_type": "stream",
     "text": [
      "Please enter the quantity of each product available in the inventory: mug\n"
     ]
    },
    {
     "name": "stdin",
     "output_type": "stream",
     "text": [
      "Quantity of item of name: mug 2\n"
     ]
    },
    {
     "name": "stdout",
     "output_type": "stream",
     "text": [
      "Please enter the quantity of each product available in the inventory: hat\n"
     ]
    },
    {
     "name": "stdin",
     "output_type": "stream",
     "text": [
      "Quantity of item of name: hat 3\n"
     ]
    },
    {
     "name": "stdout",
     "output_type": "stream",
     "text": [
      "Please enter the quantity of each product available in the inventory: book\n"
     ]
    },
    {
     "name": "stdin",
     "output_type": "stream",
     "text": [
      "Quantity of item of name: book 4\n"
     ]
    },
    {
     "name": "stdout",
     "output_type": "stream",
     "text": [
      "Please enter the quantity of each product available in the inventory: keychain\n"
     ]
    },
    {
     "name": "stdin",
     "output_type": "stream",
     "text": [
      "Quantity of item of name: keychain 5\n"
     ]
    },
    {
     "name": "stdout",
     "output_type": "stream",
     "text": [
      "{'t-shirt': 1, 'mug': 2, 'hat': 3, 'book': 4, 'keychain': 5}\n",
      "['t-shirt', 'mug', 'hat', 'book', 'keychain']\n"
     ]
    }
   ],
   "source": [
    "## Exercise 1, 2, 3\n",
    "\n",
    "products = [\"t-shirt\", \"mug\", \"hat\", \"book\", \"keychain\"]\n",
    "\n",
    "inventory = {}\n",
    "\n",
    "tempInput = 0\n",
    "tempProduct = 0\n",
    "\n",
    "for p in products:\n",
    "    print(\"Please enter the quantity of each product available in the inventory: \"+products[products.index(p)])\n",
    "    givenInput = int(input(\"Quantity of item of name: \"+p))\n",
    "    tempProduct = products[products.index(p)]\n",
    "    inventory[tempProduct] = givenInput\n",
    "    #inventory[products[p]] = givenInput\n",
    "\n",
    "print(inventory)\n",
    "\n",
    "## Exercise 4,5\n",
    "\n",
    "customer_orders = set()\n",
    "\n",
    "print(products)\n",
    "\n",
    "# contacts['Mel'] = '480-111-2222'\n",
    "\n",
    "# index() returns the index at which that element is\n",
    "# index = my_list.index(2)\n",
    "# print(index)  # Output: 1"
   ]
  },
  {
   "cell_type": "code",
   "execution_count": 3,
   "metadata": {},
   "outputs": [
    {
     "name": "stdin",
     "output_type": "stream",
     "text": [
      "Please input which items you would like to add to your order, separated by (,): t-shirt, mug, hat, book, keychain mug,hat,book\n"
     ]
    },
    {
     "name": "stdout",
     "output_type": "stream",
     "text": [
      "['mug', 'hat', 'book']\n",
      "{'hat', 'book', 'mug'}\n",
      "Order Statistics:\n",
      "Total Products Ordered: 3\n",
      "Percentage of Products Ordered: 0.2%\n"
     ]
    }
   ],
   "source": [
    "availableProducts = ', '.join(products)\n",
    "#print(availableProducts)\n",
    "\n",
    "myPurchase = input(\"Please input which items you would like to add to your order, separated by (,): \"+availableProducts)\n",
    "\n",
    "myPurchaseList = myPurchase.split(\",\")\n",
    "\n",
    "print(myPurchaseList)\n",
    "\n",
    "for m in myPurchaseList:\n",
    "    customer_orders.add(m)\n",
    "\n",
    "print(customer_orders)\n",
    "\n",
    "#for m in myPurchaseList:\n",
    "    #customer_orders.add(myPurchaseList[m])\n",
    "\n",
    "#print(myPurchase.split())\n",
    "#print(type(myPurchase))\n",
    "\n",
    "#print(customer_orders)\n",
    "\n",
    "## Exercise 7.1 + 7.2 + 8\n",
    "\n",
    "totalProductsOrdered = len(myPurchaseList)\n",
    "currentStock = sum(inventory.values())\n",
    "percentageProductsOrdered = totalProductsOrdered/currentStock\n",
    "print(\"Order Statistics:\")\n",
    "print(\"Total Products Ordered: \"+str(totalProductsOrdered))\n",
    "print(\"Percentage of Products Ordered: \"+str(percentageProductsOrdered)+\"%\")"
   ]
  },
  {
   "cell_type": "code",
   "execution_count": 4,
   "metadata": {},
   "outputs": [
    {
     "name": "stdout",
     "output_type": "stream",
     "text": [
      "1\n"
     ]
    }
   ],
   "source": [
    "r = \"t-shirt\"\n",
    "\n",
    "print(inventory[r])"
   ]
  },
  {
   "cell_type": "code",
   "execution_count": 5,
   "metadata": {},
   "outputs": [
    {
     "name": "stdout",
     "output_type": "stream",
     "text": [
      "mug\n",
      "hat\n",
      "book\n",
      "{'t-shirt': 1, 'mug': 1, 'hat': 2, 'book': 3, 'keychain': 5}\n"
     ]
    }
   ],
   "source": [
    "## Exercise 10\n",
    "\n",
    "tempSelector = \"\"\n",
    "\n",
    "for j in myPurchaseList:\n",
    "    tempSelector = j\n",
    "    print(tempSelector)\n",
    "    inventory[tempSelector] -= 1\n",
    "\n",
    "print(inventory)"
   ]
  },
  {
   "cell_type": "code",
   "execution_count": 7,
   "metadata": {},
   "outputs": [],
   "source": [
    "## Exercise 7.3\n",
    "\n",
    "order_status = (totalProductsOrdered, percentageProductsOrdered)"
   ]
  },
  {
   "cell_type": "code",
   "execution_count": 8,
   "metadata": {},
   "outputs": [
    {
     "name": "stdout",
     "output_type": "stream",
     "text": [
      "(3, 0.2)\n"
     ]
    }
   ],
   "source": [
    "print(order_status)"
   ]
  },
  {
   "cell_type": "code",
   "execution_count": null,
   "metadata": {},
   "outputs": [],
   "source": []
  }
 ],
 "metadata": {
  "kernelspec": {
   "display_name": "Python 3 (ipykernel)",
   "language": "python",
   "name": "python3"
  },
  "language_info": {
   "codemirror_mode": {
    "name": "ipython",
    "version": 3
   },
   "file_extension": ".py",
   "mimetype": "text/x-python",
   "name": "python",
   "nbconvert_exporter": "python",
   "pygments_lexer": "ipython3",
   "version": "3.12.4"
  }
 },
 "nbformat": 4,
 "nbformat_minor": 4
}
